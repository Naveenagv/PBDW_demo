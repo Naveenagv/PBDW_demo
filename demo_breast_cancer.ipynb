{
  "nbformat": 4,
  "nbformat_minor": 0,
  "metadata": {
    "kernelspec": {
      "display_name": "Python 3",
      "language": "python",
      "name": "python3"
    },
    "language_info": {
      "codemirror_mode": {
        "name": "ipython",
        "version": 3
      },
      "file_extension": ".py",
      "mimetype": "text/x-python",
      "name": "python",
      "nbconvert_exporter": "python",
      "pygments_lexer": "ipython3",
      "version": "3.8.5"
    },
    "colab": {
      "name": "demo_breast_cancer.ipynb",
      "provenance": []
    }
  },
  "cells": [
    {
      "cell_type": "code",
      "metadata": {
        "id": "FTtEEKvz1J4S"
      },
      "source": [
        "import pandas as pd\n",
        "import numpy as np\n",
        "import matplotlib.pyplot as plt\n",
        "import os\n",
        "from sklearn.linear_model import LogisticRegression\n",
        "from sklearn.preprocessing import StandardScaler\n",
        "import torch\n",
        "import torch.nn.functional as F"
      ],
      "execution_count": null,
      "outputs": []
    },
    {
      "cell_type": "code",
      "metadata": {
        "id": "2Ktb91bt1J4X"
      },
      "source": [
        "#from:https://github.com/sunancui/breast-cancer-diagnosis\n",
        "url = 'https://raw.githubusercontent.com/sunancui/breast-cancer-diagnosis/master/breast-cancer-wisconsin-data_data.csv'\n",
        "data_all = pd.read_csv(url,index_col=0,parse_dates=[0])"
      ],
      "execution_count": null,
      "outputs": []
    },
    {
      "cell_type": "code",
      "metadata": {
        "colab": {
          "base_uri": "https://localhost:8080/",
          "height": 487
        },
        "id": "S2OaSRLH1J4Y",
        "outputId": "7e318a30-9eca-430d-9bb5-c9d5d73b4a98"
      },
      "source": [
        "data_all"
      ],
      "execution_count": null,
      "outputs": [
        {
          "output_type": "execute_result",
          "data": {
            "text/html": [
              "<div>\n",
              "<style scoped>\n",
              "    .dataframe tbody tr th:only-of-type {\n",
              "        vertical-align: middle;\n",
              "    }\n",
              "\n",
              "    .dataframe tbody tr th {\n",
              "        vertical-align: top;\n",
              "    }\n",
              "\n",
              "    .dataframe thead th {\n",
              "        text-align: right;\n",
              "    }\n",
              "</style>\n",
              "<table border=\"1\" class=\"dataframe\">\n",
              "  <thead>\n",
              "    <tr style=\"text-align: right;\">\n",
              "      <th></th>\n",
              "      <th>diagnosis</th>\n",
              "      <th>radius_mean</th>\n",
              "      <th>texture_mean</th>\n",
              "      <th>perimeter_mean</th>\n",
              "      <th>area_mean</th>\n",
              "      <th>smoothness_mean</th>\n",
              "      <th>compactness_mean</th>\n",
              "      <th>concavity_mean</th>\n",
              "      <th>concave points_mean</th>\n",
              "      <th>symmetry_mean</th>\n",
              "      <th>fractal_dimension_mean</th>\n",
              "      <th>radius_se</th>\n",
              "      <th>texture_se</th>\n",
              "      <th>perimeter_se</th>\n",
              "      <th>area_se</th>\n",
              "      <th>smoothness_se</th>\n",
              "      <th>compactness_se</th>\n",
              "      <th>concavity_se</th>\n",
              "      <th>concave points_se</th>\n",
              "      <th>symmetry_se</th>\n",
              "      <th>fractal_dimension_se</th>\n",
              "      <th>radius_worst</th>\n",
              "      <th>texture_worst</th>\n",
              "      <th>perimeter_worst</th>\n",
              "      <th>area_worst</th>\n",
              "      <th>smoothness_worst</th>\n",
              "      <th>compactness_worst</th>\n",
              "      <th>concavity_worst</th>\n",
              "      <th>concave points_worst</th>\n",
              "      <th>symmetry_worst</th>\n",
              "      <th>fractal_dimension_worst</th>\n",
              "    </tr>\n",
              "    <tr>\n",
              "      <th>id</th>\n",
              "      <th></th>\n",
              "      <th></th>\n",
              "      <th></th>\n",
              "      <th></th>\n",
              "      <th></th>\n",
              "      <th></th>\n",
              "      <th></th>\n",
              "      <th></th>\n",
              "      <th></th>\n",
              "      <th></th>\n",
              "      <th></th>\n",
              "      <th></th>\n",
              "      <th></th>\n",
              "      <th></th>\n",
              "      <th></th>\n",
              "      <th></th>\n",
              "      <th></th>\n",
              "      <th></th>\n",
              "      <th></th>\n",
              "      <th></th>\n",
              "      <th></th>\n",
              "      <th></th>\n",
              "      <th></th>\n",
              "      <th></th>\n",
              "      <th></th>\n",
              "      <th></th>\n",
              "      <th></th>\n",
              "      <th></th>\n",
              "      <th></th>\n",
              "      <th></th>\n",
              "      <th></th>\n",
              "    </tr>\n",
              "  </thead>\n",
              "  <tbody>\n",
              "    <tr>\n",
              "      <th>842302</th>\n",
              "      <td>M</td>\n",
              "      <td>17.99</td>\n",
              "      <td>10.38</td>\n",
              "      <td>122.80</td>\n",
              "      <td>1001.0</td>\n",
              "      <td>0.11840</td>\n",
              "      <td>0.27760</td>\n",
              "      <td>0.30010</td>\n",
              "      <td>0.14710</td>\n",
              "      <td>0.2419</td>\n",
              "      <td>0.07871</td>\n",
              "      <td>1.0950</td>\n",
              "      <td>0.9053</td>\n",
              "      <td>8.589</td>\n",
              "      <td>153.40</td>\n",
              "      <td>0.006399</td>\n",
              "      <td>0.04904</td>\n",
              "      <td>0.05373</td>\n",
              "      <td>0.01587</td>\n",
              "      <td>0.03003</td>\n",
              "      <td>0.006193</td>\n",
              "      <td>25.380</td>\n",
              "      <td>17.33</td>\n",
              "      <td>184.60</td>\n",
              "      <td>2019.0</td>\n",
              "      <td>0.16220</td>\n",
              "      <td>0.66560</td>\n",
              "      <td>0.7119</td>\n",
              "      <td>0.2654</td>\n",
              "      <td>0.4601</td>\n",
              "      <td>0.11890</td>\n",
              "    </tr>\n",
              "    <tr>\n",
              "      <th>842517</th>\n",
              "      <td>M</td>\n",
              "      <td>20.57</td>\n",
              "      <td>17.77</td>\n",
              "      <td>132.90</td>\n",
              "      <td>1326.0</td>\n",
              "      <td>0.08474</td>\n",
              "      <td>0.07864</td>\n",
              "      <td>0.08690</td>\n",
              "      <td>0.07017</td>\n",
              "      <td>0.1812</td>\n",
              "      <td>0.05667</td>\n",
              "      <td>0.5435</td>\n",
              "      <td>0.7339</td>\n",
              "      <td>3.398</td>\n",
              "      <td>74.08</td>\n",
              "      <td>0.005225</td>\n",
              "      <td>0.01308</td>\n",
              "      <td>0.01860</td>\n",
              "      <td>0.01340</td>\n",
              "      <td>0.01389</td>\n",
              "      <td>0.003532</td>\n",
              "      <td>24.990</td>\n",
              "      <td>23.41</td>\n",
              "      <td>158.80</td>\n",
              "      <td>1956.0</td>\n",
              "      <td>0.12380</td>\n",
              "      <td>0.18660</td>\n",
              "      <td>0.2416</td>\n",
              "      <td>0.1860</td>\n",
              "      <td>0.2750</td>\n",
              "      <td>0.08902</td>\n",
              "    </tr>\n",
              "    <tr>\n",
              "      <th>84300903</th>\n",
              "      <td>M</td>\n",
              "      <td>19.69</td>\n",
              "      <td>21.25</td>\n",
              "      <td>130.00</td>\n",
              "      <td>1203.0</td>\n",
              "      <td>0.10960</td>\n",
              "      <td>0.15990</td>\n",
              "      <td>0.19740</td>\n",
              "      <td>0.12790</td>\n",
              "      <td>0.2069</td>\n",
              "      <td>0.05999</td>\n",
              "      <td>0.7456</td>\n",
              "      <td>0.7869</td>\n",
              "      <td>4.585</td>\n",
              "      <td>94.03</td>\n",
              "      <td>0.006150</td>\n",
              "      <td>0.04006</td>\n",
              "      <td>0.03832</td>\n",
              "      <td>0.02058</td>\n",
              "      <td>0.02250</td>\n",
              "      <td>0.004571</td>\n",
              "      <td>23.570</td>\n",
              "      <td>25.53</td>\n",
              "      <td>152.50</td>\n",
              "      <td>1709.0</td>\n",
              "      <td>0.14440</td>\n",
              "      <td>0.42450</td>\n",
              "      <td>0.4504</td>\n",
              "      <td>0.2430</td>\n",
              "      <td>0.3613</td>\n",
              "      <td>0.08758</td>\n",
              "    </tr>\n",
              "    <tr>\n",
              "      <th>84348301</th>\n",
              "      <td>M</td>\n",
              "      <td>11.42</td>\n",
              "      <td>20.38</td>\n",
              "      <td>77.58</td>\n",
              "      <td>386.1</td>\n",
              "      <td>0.14250</td>\n",
              "      <td>0.28390</td>\n",
              "      <td>0.24140</td>\n",
              "      <td>0.10520</td>\n",
              "      <td>0.2597</td>\n",
              "      <td>0.09744</td>\n",
              "      <td>0.4956</td>\n",
              "      <td>1.1560</td>\n",
              "      <td>3.445</td>\n",
              "      <td>27.23</td>\n",
              "      <td>0.009110</td>\n",
              "      <td>0.07458</td>\n",
              "      <td>0.05661</td>\n",
              "      <td>0.01867</td>\n",
              "      <td>0.05963</td>\n",
              "      <td>0.009208</td>\n",
              "      <td>14.910</td>\n",
              "      <td>26.50</td>\n",
              "      <td>98.87</td>\n",
              "      <td>567.7</td>\n",
              "      <td>0.20980</td>\n",
              "      <td>0.86630</td>\n",
              "      <td>0.6869</td>\n",
              "      <td>0.2575</td>\n",
              "      <td>0.6638</td>\n",
              "      <td>0.17300</td>\n",
              "    </tr>\n",
              "    <tr>\n",
              "      <th>84358402</th>\n",
              "      <td>M</td>\n",
              "      <td>20.29</td>\n",
              "      <td>14.34</td>\n",
              "      <td>135.10</td>\n",
              "      <td>1297.0</td>\n",
              "      <td>0.10030</td>\n",
              "      <td>0.13280</td>\n",
              "      <td>0.19800</td>\n",
              "      <td>0.10430</td>\n",
              "      <td>0.1809</td>\n",
              "      <td>0.05883</td>\n",
              "      <td>0.7572</td>\n",
              "      <td>0.7813</td>\n",
              "      <td>5.438</td>\n",
              "      <td>94.44</td>\n",
              "      <td>0.011490</td>\n",
              "      <td>0.02461</td>\n",
              "      <td>0.05688</td>\n",
              "      <td>0.01885</td>\n",
              "      <td>0.01756</td>\n",
              "      <td>0.005115</td>\n",
              "      <td>22.540</td>\n",
              "      <td>16.67</td>\n",
              "      <td>152.20</td>\n",
              "      <td>1575.0</td>\n",
              "      <td>0.13740</td>\n",
              "      <td>0.20500</td>\n",
              "      <td>0.4000</td>\n",
              "      <td>0.1625</td>\n",
              "      <td>0.2364</td>\n",
              "      <td>0.07678</td>\n",
              "    </tr>\n",
              "    <tr>\n",
              "      <th>...</th>\n",
              "      <td>...</td>\n",
              "      <td>...</td>\n",
              "      <td>...</td>\n",
              "      <td>...</td>\n",
              "      <td>...</td>\n",
              "      <td>...</td>\n",
              "      <td>...</td>\n",
              "      <td>...</td>\n",
              "      <td>...</td>\n",
              "      <td>...</td>\n",
              "      <td>...</td>\n",
              "      <td>...</td>\n",
              "      <td>...</td>\n",
              "      <td>...</td>\n",
              "      <td>...</td>\n",
              "      <td>...</td>\n",
              "      <td>...</td>\n",
              "      <td>...</td>\n",
              "      <td>...</td>\n",
              "      <td>...</td>\n",
              "      <td>...</td>\n",
              "      <td>...</td>\n",
              "      <td>...</td>\n",
              "      <td>...</td>\n",
              "      <td>...</td>\n",
              "      <td>...</td>\n",
              "      <td>...</td>\n",
              "      <td>...</td>\n",
              "      <td>...</td>\n",
              "      <td>...</td>\n",
              "      <td>...</td>\n",
              "    </tr>\n",
              "    <tr>\n",
              "      <th>926424</th>\n",
              "      <td>M</td>\n",
              "      <td>21.56</td>\n",
              "      <td>22.39</td>\n",
              "      <td>142.00</td>\n",
              "      <td>1479.0</td>\n",
              "      <td>0.11100</td>\n",
              "      <td>0.11590</td>\n",
              "      <td>0.24390</td>\n",
              "      <td>0.13890</td>\n",
              "      <td>0.1726</td>\n",
              "      <td>0.05623</td>\n",
              "      <td>1.1760</td>\n",
              "      <td>1.2560</td>\n",
              "      <td>7.673</td>\n",
              "      <td>158.70</td>\n",
              "      <td>0.010300</td>\n",
              "      <td>0.02891</td>\n",
              "      <td>0.05198</td>\n",
              "      <td>0.02454</td>\n",
              "      <td>0.01114</td>\n",
              "      <td>0.004239</td>\n",
              "      <td>25.450</td>\n",
              "      <td>26.40</td>\n",
              "      <td>166.10</td>\n",
              "      <td>2027.0</td>\n",
              "      <td>0.14100</td>\n",
              "      <td>0.21130</td>\n",
              "      <td>0.4107</td>\n",
              "      <td>0.2216</td>\n",
              "      <td>0.2060</td>\n",
              "      <td>0.07115</td>\n",
              "    </tr>\n",
              "    <tr>\n",
              "      <th>926682</th>\n",
              "      <td>M</td>\n",
              "      <td>20.13</td>\n",
              "      <td>28.25</td>\n",
              "      <td>131.20</td>\n",
              "      <td>1261.0</td>\n",
              "      <td>0.09780</td>\n",
              "      <td>0.10340</td>\n",
              "      <td>0.14400</td>\n",
              "      <td>0.09791</td>\n",
              "      <td>0.1752</td>\n",
              "      <td>0.05533</td>\n",
              "      <td>0.7655</td>\n",
              "      <td>2.4630</td>\n",
              "      <td>5.203</td>\n",
              "      <td>99.04</td>\n",
              "      <td>0.005769</td>\n",
              "      <td>0.02423</td>\n",
              "      <td>0.03950</td>\n",
              "      <td>0.01678</td>\n",
              "      <td>0.01898</td>\n",
              "      <td>0.002498</td>\n",
              "      <td>23.690</td>\n",
              "      <td>38.25</td>\n",
              "      <td>155.00</td>\n",
              "      <td>1731.0</td>\n",
              "      <td>0.11660</td>\n",
              "      <td>0.19220</td>\n",
              "      <td>0.3215</td>\n",
              "      <td>0.1628</td>\n",
              "      <td>0.2572</td>\n",
              "      <td>0.06637</td>\n",
              "    </tr>\n",
              "    <tr>\n",
              "      <th>926954</th>\n",
              "      <td>M</td>\n",
              "      <td>16.60</td>\n",
              "      <td>28.08</td>\n",
              "      <td>108.30</td>\n",
              "      <td>858.1</td>\n",
              "      <td>0.08455</td>\n",
              "      <td>0.10230</td>\n",
              "      <td>0.09251</td>\n",
              "      <td>0.05302</td>\n",
              "      <td>0.1590</td>\n",
              "      <td>0.05648</td>\n",
              "      <td>0.4564</td>\n",
              "      <td>1.0750</td>\n",
              "      <td>3.425</td>\n",
              "      <td>48.55</td>\n",
              "      <td>0.005903</td>\n",
              "      <td>0.03731</td>\n",
              "      <td>0.04730</td>\n",
              "      <td>0.01557</td>\n",
              "      <td>0.01318</td>\n",
              "      <td>0.003892</td>\n",
              "      <td>18.980</td>\n",
              "      <td>34.12</td>\n",
              "      <td>126.70</td>\n",
              "      <td>1124.0</td>\n",
              "      <td>0.11390</td>\n",
              "      <td>0.30940</td>\n",
              "      <td>0.3403</td>\n",
              "      <td>0.1418</td>\n",
              "      <td>0.2218</td>\n",
              "      <td>0.07820</td>\n",
              "    </tr>\n",
              "    <tr>\n",
              "      <th>927241</th>\n",
              "      <td>M</td>\n",
              "      <td>20.60</td>\n",
              "      <td>29.33</td>\n",
              "      <td>140.10</td>\n",
              "      <td>1265.0</td>\n",
              "      <td>0.11780</td>\n",
              "      <td>0.27700</td>\n",
              "      <td>0.35140</td>\n",
              "      <td>0.15200</td>\n",
              "      <td>0.2397</td>\n",
              "      <td>0.07016</td>\n",
              "      <td>0.7260</td>\n",
              "      <td>1.5950</td>\n",
              "      <td>5.772</td>\n",
              "      <td>86.22</td>\n",
              "      <td>0.006522</td>\n",
              "      <td>0.06158</td>\n",
              "      <td>0.07117</td>\n",
              "      <td>0.01664</td>\n",
              "      <td>0.02324</td>\n",
              "      <td>0.006185</td>\n",
              "      <td>25.740</td>\n",
              "      <td>39.42</td>\n",
              "      <td>184.60</td>\n",
              "      <td>1821.0</td>\n",
              "      <td>0.16500</td>\n",
              "      <td>0.86810</td>\n",
              "      <td>0.9387</td>\n",
              "      <td>0.2650</td>\n",
              "      <td>0.4087</td>\n",
              "      <td>0.12400</td>\n",
              "    </tr>\n",
              "    <tr>\n",
              "      <th>92751</th>\n",
              "      <td>B</td>\n",
              "      <td>7.76</td>\n",
              "      <td>24.54</td>\n",
              "      <td>47.92</td>\n",
              "      <td>181.0</td>\n",
              "      <td>0.05263</td>\n",
              "      <td>0.04362</td>\n",
              "      <td>0.00000</td>\n",
              "      <td>0.00000</td>\n",
              "      <td>0.1587</td>\n",
              "      <td>0.05884</td>\n",
              "      <td>0.3857</td>\n",
              "      <td>1.4280</td>\n",
              "      <td>2.548</td>\n",
              "      <td>19.15</td>\n",
              "      <td>0.007189</td>\n",
              "      <td>0.00466</td>\n",
              "      <td>0.00000</td>\n",
              "      <td>0.00000</td>\n",
              "      <td>0.02676</td>\n",
              "      <td>0.002783</td>\n",
              "      <td>9.456</td>\n",
              "      <td>30.37</td>\n",
              "      <td>59.16</td>\n",
              "      <td>268.6</td>\n",
              "      <td>0.08996</td>\n",
              "      <td>0.06444</td>\n",
              "      <td>0.0000</td>\n",
              "      <td>0.0000</td>\n",
              "      <td>0.2871</td>\n",
              "      <td>0.07039</td>\n",
              "    </tr>\n",
              "  </tbody>\n",
              "</table>\n",
              "<p>569 rows × 31 columns</p>\n",
              "</div>"
            ],
            "text/plain": [
              "         diagnosis  radius_mean  ...  symmetry_worst  fractal_dimension_worst\n",
              "id                               ...                                         \n",
              "842302           M        17.99  ...          0.4601                  0.11890\n",
              "842517           M        20.57  ...          0.2750                  0.08902\n",
              "84300903         M        19.69  ...          0.3613                  0.08758\n",
              "84348301         M        11.42  ...          0.6638                  0.17300\n",
              "84358402         M        20.29  ...          0.2364                  0.07678\n",
              "...            ...          ...  ...             ...                      ...\n",
              "926424           M        21.56  ...          0.2060                  0.07115\n",
              "926682           M        20.13  ...          0.2572                  0.06637\n",
              "926954           M        16.60  ...          0.2218                  0.07820\n",
              "927241           M        20.60  ...          0.4087                  0.12400\n",
              "92751            B         7.76  ...          0.2871                  0.07039\n",
              "\n",
              "[569 rows x 31 columns]"
            ]
          },
          "metadata": {},
          "execution_count": 3
        }
      ]
    },
    {
      "cell_type": "code",
      "metadata": {
        "id": "6Pha-NXx1J4Z"
      },
      "source": [
        "data_features=data_all.iloc[:,1:11]\n",
        "#read labels\n",
        "data_diagnosis_l=data_all.iloc[:,0]\n",
        "#label convert to numeric\n",
        "data_diagnosis=data_diagnosis_l.replace(\"B\",0)\n",
        "data_diagnosis=data_diagnosis.replace(\"M\",1)\n",
        "#get values of X, Y\n",
        "X=data_features.values\n",
        "Y=data_diagnosis.values\n",
        "scaler=StandardScaler()\n",
        "scaler.fit(X)\n",
        "X=scaler.transform(X)"
      ],
      "execution_count": null,
      "outputs": []
    },
    {
      "cell_type": "code",
      "metadata": {
        "id": "JdO3z0SR1J4Z",
        "colab": {
          "base_uri": "https://localhost:8080/"
        },
        "outputId": "1dbe3c7b-3214-40f0-95b5-6bff54ce4faf"
      },
      "source": [
        "clf = LogisticRegression(random_state=0, solver='lbfgs').fit(X, Y)\n",
        "P=clf.predict(X)\n",
        "P_P=clf.predict_proba(X)\n",
        "sc=clf.score(X, Y)\n",
        "#estimated optimal parameters\n",
        "w_est=clf.coef_.reshape(-1,1)\n",
        "b_est=clf.intercept_\n",
        "eta=np.matmul(X,w_est)+b_est\n",
        "result_df=pd.DataFrame(dict(label=Y, eta=eta.reshape(-1), prediction=P_P[:,1].reshape(-1)))\n",
        "groups=result_df.groupby('label')\n",
        "print('Classification score:',sc)"
      ],
      "execution_count": null,
      "outputs": [
        {
          "output_type": "stream",
          "name": "stdout",
          "text": [
            "Classification score: 0.945518453427065\n"
          ]
        }
      ]
    },
    {
      "cell_type": "code",
      "metadata": {
        "id": "TapGqwpV1J4b"
      },
      "source": [
        "input_dim=X.shape[1]\n",
        "output_dim=1\n",
        "learning_rate=0.1\n",
        "num_epoch=1000\n",
        "#convert to pytorch tensor\n",
        "X_torch=torch.from_numpy(X)\n",
        "Y_torch=torch.from_numpy(Y.reshape(-1,1))"
      ],
      "execution_count": null,
      "outputs": []
    },
    {
      "cell_type": "code",
      "metadata": {
        "id": "HN1HjVsQ1J4b"
      },
      "source": [
        "class LogisticRg(torch.nn.Module):\n",
        "    def __init__(self, input_dim, output_dim):\n",
        "        super(LogisticRg, self).__init__()\n",
        "        self.linear=torch.nn.Linear(input_dim,output_dim)\n",
        "    def forward(self,x):\n",
        "        outputs=torch.sigmoid(self.linear(x))\n",
        "        return outputs\n",
        "model=LogisticRg(input_dim,output_dim)\n",
        "criterion=torch.nn.BCELoss(reduction='sum')\n",
        "optimizer=torch.optim.Adam(model.parameters(), lr=learning_rate)\n",
        "for i in range(num_epoch):\n",
        "    model.train()\n",
        "    optimizer.zero_grad()\n",
        "    y_pred=model(X_torch.float())\n",
        "    #define the loss, adding l2 penalty\n",
        "    loss=criterion(y_pred,Y_torch.float())\n",
        "    #this is for matching the sklearn default setting, l2 penalty\n",
        "    for l_w in model.parameters():\n",
        "        loss=loss+torch.sum(l_w**2)*0.5\n",
        "    loss.backward()\n",
        "    optimizer.step()\n",
        "    #if i%10==0:\n",
        "        #print(i, loss)"
      ],
      "execution_count": null,
      "outputs": []
    },
    {
      "cell_type": "code",
      "metadata": {
        "colab": {
          "base_uri": "https://localhost:8080/"
        },
        "id": "QJgzgjPw1J4c",
        "outputId": "b73b907a-e3e4-499f-cf2f-0fd8165114ca"
      },
      "source": [
        "#final estimated, note this is roughly the same result as sklearn implemention, the\n",
        "#slight difference may comes from numerical problems, different optimizer, learning rate.\n",
        "for name, param in model.named_parameters():\n",
        "    if param.requires_grad:\n",
        "        print (name, param.data)"
      ],
      "execution_count": null,
      "outputs": [
        {
          "output_type": "stream",
          "name": "stdout",
          "text": [
            "linear.weight tensor([[ 0.9833,  1.3940,  0.9024,  1.3318,  0.9690, -0.3028,  1.0580,  1.5938,\n",
            "          0.4266, -0.3943]])\n",
            "linear.bias tensor([-0.5669])\n"
          ]
        }
      ]
    },
    {
      "cell_type": "code",
      "metadata": {
        "id": "Zbs4xWiG1J4d"
      },
      "source": [
        "#from:https://www.kaggle.com/iabhishekbhardwaj/breast-cancer-prediction-wisconsin-data\n",
        "from sklearn.model_selection import train_test_split \n",
        "x_train,x_test,y_train,y_test = train_test_split(X,Y,test_size=0.2,random_state=0)"
      ],
      "execution_count": null,
      "outputs": []
    },
    {
      "cell_type": "code",
      "metadata": {
        "colab": {
          "base_uri": "https://localhost:8080/"
        },
        "id": "JcnWX9zd1J4d",
        "outputId": "4a4664e4-db7d-4734-f05f-19796c70edab"
      },
      "source": [
        "from sklearn.tree import DecisionTreeClassifier\n",
        "dtree = DecisionTreeClassifier(max_depth=6, random_state=123)\n",
        "dtree.fit(x_train,y_train)"
      ],
      "execution_count": null,
      "outputs": [
        {
          "output_type": "execute_result",
          "data": {
            "text/plain": [
              "DecisionTreeClassifier(ccp_alpha=0.0, class_weight=None, criterion='gini',\n",
              "                       max_depth=6, max_features=None, max_leaf_nodes=None,\n",
              "                       min_impurity_decrease=0.0, min_impurity_split=None,\n",
              "                       min_samples_leaf=1, min_samples_split=2,\n",
              "                       min_weight_fraction_leaf=0.0, presort='deprecated',\n",
              "                       random_state=123, splitter='best')"
            ]
          },
          "metadata": {},
          "execution_count": 34
        }
      ]
    },
    {
      "cell_type": "markdown",
      "metadata": {
        "id": "YZDYqyXa5tiM"
      },
      "source": [
        "**Confusion Matrix:**\n",
        "\n",
        "![70456have cancer.jpg](data:image/jpeg;base64,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)"
      ]
    },
    {
      "cell_type": "markdown",
      "metadata": {
        "id": "6W6MpUn47QLq"
      },
      "source": [
        "**Precision and Recall:**\n",
        "\n",
        "![1_7J08ekAwupLBegeUI8muHA.png](data:image/png;base64,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)**"
      ]
    },
    {
      "cell_type": "code",
      "metadata": {
        "colab": {
          "base_uri": "https://localhost:8080/"
        },
        "id": "nVlh3jOm1J4e",
        "outputId": "9c4db9ef-7d3b-48d5-c197-be304281ad0a"
      },
      "source": [
        "y_pred=dtree.predict(x_test)\n",
        "from sklearn.metrics import classification_report,confusion_matrix,accuracy_score,mean_squared_error\n",
        "print(\"Classification report:\",classification_report(y_test,y_pred))\n",
        "print(\"Confusion Matrix:\",confusion_matrix(y_test,y_pred))\n",
        "print(\"Training Score: \",dtree.score(x_train,y_train)*100)\n",
        "print(\"testing score:\",accuracy_score(y_test,y_pred)*100)"
      ],
      "execution_count": null,
      "outputs": [
        {
          "output_type": "stream",
          "name": "stdout",
          "text": [
            "Classification report:               precision    recall  f1-score   support\n",
            "\n",
            "           0       0.95      0.94      0.95        67\n",
            "           1       0.92      0.94      0.93        47\n",
            "\n",
            "    accuracy                           0.94       114\n",
            "   macro avg       0.94      0.94      0.94       114\n",
            "weighted avg       0.94      0.94      0.94       114\n",
            "\n",
            "Confusion Matrix: [[63  4]\n",
            " [ 3 44]]\n",
            "Training Score:  99.34065934065934\n",
            "testing score: 93.85964912280701\n"
          ]
        }
      ]
    },
    {
      "cell_type": "code",
      "metadata": {
        "colab": {
          "base_uri": "https://localhost:8080/"
        },
        "id": "WjMu129m1J4e",
        "outputId": "0d93a2a3-ea8c-4677-cbdb-4be849e6d391"
      },
      "source": [
        "from sklearn.ensemble import RandomForestClassifier\n",
        "rfc=RandomForestClassifier()\n",
        "rfc.fit(x_train,y_train)"
      ],
      "execution_count": null,
      "outputs": [
        {
          "output_type": "execute_result",
          "data": {
            "text/plain": [
              "RandomForestClassifier(bootstrap=True, ccp_alpha=0.0, class_weight=None,\n",
              "                       criterion='gini', max_depth=None, max_features='auto',\n",
              "                       max_leaf_nodes=None, max_samples=None,\n",
              "                       min_impurity_decrease=0.0, min_impurity_split=None,\n",
              "                       min_samples_leaf=1, min_samples_split=2,\n",
              "                       min_weight_fraction_leaf=0.0, n_estimators=100,\n",
              "                       n_jobs=None, oob_score=False, random_state=None,\n",
              "                       verbose=0, warm_start=False)"
            ]
          },
          "metadata": {},
          "execution_count": 36
        }
      ]
    },
    {
      "cell_type": "code",
      "metadata": {
        "colab": {
          "base_uri": "https://localhost:8080/"
        },
        "id": "HT_CyBC01J4e",
        "outputId": "f115b377-59db-441c-f979-c317a1d99b28"
      },
      "source": [
        "y_pred=rfc.predict(x_test)\n",
        "print(\"Classification report:\",classification_report(y_test,y_pred))\n",
        "print(\"Confusion Matrix:\",confusion_matrix(y_test,y_pred))\n",
        "print(\"Training Score: \",rfc.score(x_train,y_train)*100)\n",
        "print(\"testing score:\",accuracy_score(y_test,y_pred)*100)"
      ],
      "execution_count": null,
      "outputs": [
        {
          "output_type": "stream",
          "name": "stdout",
          "text": [
            "Classification report:               precision    recall  f1-score   support\n",
            "\n",
            "           0       0.98      0.94      0.96        67\n",
            "           1       0.92      0.98      0.95        47\n",
            "\n",
            "    accuracy                           0.96       114\n",
            "   macro avg       0.95      0.96      0.96       114\n",
            "weighted avg       0.96      0.96      0.96       114\n",
            "\n",
            "Confusion Matrix: [[63  4]\n",
            " [ 1 46]]\n",
            "Training Score:  100.0\n",
            "testing score: 95.6140350877193\n"
          ]
        }
      ]
    },
    {
      "cell_type": "code",
      "metadata": {
        "colab": {
          "base_uri": "https://localhost:8080/"
        },
        "id": "DyOtxma41J4f",
        "outputId": "6815c57b-9361-420f-cb55-809dd8e1e569"
      },
      "source": [
        "from sklearn.neighbors import KNeighborsClassifier\n",
        "knn=KNeighborsClassifier(n_neighbors=7)\n",
        "\n",
        "knn.fit(x_train,y_train)"
      ],
      "execution_count": null,
      "outputs": [
        {
          "output_type": "execute_result",
          "data": {
            "text/plain": [
              "KNeighborsClassifier(algorithm='auto', leaf_size=30, metric='minkowski',\n",
              "                     metric_params=None, n_jobs=None, n_neighbors=7, p=2,\n",
              "                     weights='uniform')"
            ]
          },
          "metadata": {},
          "execution_count": 38
        }
      ]
    },
    {
      "cell_type": "code",
      "metadata": {
        "colab": {
          "base_uri": "https://localhost:8080/"
        },
        "id": "Ox-nekem1J4f",
        "outputId": "0f18e3a8-237e-4da1-91b7-c1dcbcd43b5a"
      },
      "source": [
        "y_pred=knn.predict(x_test)\n",
        "print(\"Classification report:\",classification_report(y_test,y_pred))\n",
        "print(\"Confusion Matrix:\",confusion_matrix(y_test,y_pred))\n",
        "print(\"Training Score: \",knn.score(x_train,y_train)*100)\n",
        "print(\"Testing score\",knn.score(x_test,y_test)*100)"
      ],
      "execution_count": null,
      "outputs": [
        {
          "output_type": "stream",
          "name": "stdout",
          "text": [
            "Classification report:               precision    recall  f1-score   support\n",
            "\n",
            "           0       0.95      0.90      0.92        67\n",
            "           1       0.86      0.94      0.90        47\n",
            "\n",
            "    accuracy                           0.91       114\n",
            "   macro avg       0.91      0.92      0.91       114\n",
            "weighted avg       0.92      0.91      0.91       114\n",
            "\n",
            "Confusion Matrix: [[60  7]\n",
            " [ 3 44]]\n",
            "Training Score:  96.04395604395604\n",
            "Testing score 91.22807017543859\n"
          ]
        }
      ]
    },
    {
      "cell_type": "code",
      "metadata": {
        "colab": {
          "base_uri": "https://localhost:8080/"
        },
        "id": "5av5x0G71J4g",
        "outputId": "af476966-573d-4bcf-9475-a9361b01be41"
      },
      "source": [
        "from sklearn.svm import SVC\n",
        "\n",
        "svc = SVC()\n",
        "svc.fit(x_train, y_train)"
      ],
      "execution_count": null,
      "outputs": [
        {
          "output_type": "execute_result",
          "data": {
            "text/plain": [
              "SVC(C=1.0, break_ties=False, cache_size=200, class_weight=None, coef0=0.0,\n",
              "    decision_function_shape='ovr', degree=3, gamma='scale', kernel='rbf',\n",
              "    max_iter=-1, probability=False, random_state=None, shrinking=True,\n",
              "    tol=0.001, verbose=False)"
            ]
          },
          "metadata": {},
          "execution_count": 40
        }
      ]
    },
    {
      "cell_type": "code",
      "metadata": {
        "colab": {
          "base_uri": "https://localhost:8080/"
        },
        "id": "Nu7knBc61J4g",
        "outputId": "c4262be2-39b3-40a2-bdd4-e0629ae17ac8"
      },
      "source": [
        "y_pred=svc.predict(x_test)\n",
        "print(\"Classification report:\",classification_report(y_test,y_pred))\n",
        "print(\"Confusion Matrix:\",confusion_matrix(y_test,y_pred))\n",
        "print(\"Training Score: \",svc.score(x_train,y_train)*100)\n",
        "print(\"Testing score:\",svc.score(x_test,y_test))"
      ],
      "execution_count": null,
      "outputs": [
        {
          "output_type": "stream",
          "name": "stdout",
          "text": [
            "Classification report:               precision    recall  f1-score   support\n",
            "\n",
            "           0       0.93      0.97      0.95        67\n",
            "           1       0.95      0.89      0.92        47\n",
            "\n",
            "    accuracy                           0.94       114\n",
            "   macro avg       0.94      0.93      0.94       114\n",
            "weighted avg       0.94      0.94      0.94       114\n",
            "\n",
            "Confusion Matrix: [[65  2]\n",
            " [ 5 42]]\n",
            "Training Score:  96.48351648351648\n",
            "Testing score: 0.9385964912280702\n"
          ]
        }
      ]
    },
    {
      "cell_type": "code",
      "metadata": {
        "colab": {
          "base_uri": "https://localhost:8080/"
        },
        "id": "HZxrcN9N1J4h",
        "outputId": "2cc16974-c116-4898-fec0-3e38ba2e707d"
      },
      "source": [
        "from sklearn.ensemble import AdaBoostClassifier\n",
        "adb = AdaBoostClassifier(base_estimator = None)\n",
        "adb.fit(x_train,y_train)"
      ],
      "execution_count": null,
      "outputs": [
        {
          "output_type": "execute_result",
          "data": {
            "text/plain": [
              "AdaBoostClassifier(algorithm='SAMME.R', base_estimator=None, learning_rate=1.0,\n",
              "                   n_estimators=50, random_state=None)"
            ]
          },
          "metadata": {},
          "execution_count": 42
        }
      ]
    },
    {
      "cell_type": "code",
      "metadata": {
        "colab": {
          "base_uri": "https://localhost:8080/"
        },
        "id": "MGvAtYyP1J4h",
        "outputId": "47d92057-12f5-49d2-a405-16c216fb0a31"
      },
      "source": [
        "y_pred=adb.predict(x_test)\n",
        "print(\"Classification report:\",classification_report(y_test,y_pred))\n",
        "print(\"Confusion Matrix:\",confusion_matrix(y_test,y_pred))\n",
        "print(\"Training Score: \",adb.score(x_train,y_train)*100)\n",
        "print(\"testing score:\",accuracy_score(y_test,y_pred)*100)"
      ],
      "execution_count": null,
      "outputs": [
        {
          "output_type": "stream",
          "name": "stdout",
          "text": [
            "Classification report:               precision    recall  f1-score   support\n",
            "\n",
            "           0       0.96      0.96      0.96        67\n",
            "           1       0.94      0.94      0.94        47\n",
            "\n",
            "    accuracy                           0.95       114\n",
            "   macro avg       0.95      0.95      0.95       114\n",
            "weighted avg       0.95      0.95      0.95       114\n",
            "\n",
            "Confusion Matrix: [[64  3]\n",
            " [ 3 44]]\n",
            "Training Score:  100.0\n",
            "testing score: 94.73684210526315\n"
          ]
        }
      ]
    },
    {
      "cell_type": "code",
      "metadata": {
        "colab": {
          "base_uri": "https://localhost:8080/"
        },
        "id": "u6wFofBQ1J4i",
        "outputId": "829fcee6-bf9e-437d-957e-500597d032f0"
      },
      "source": [
        "from sklearn.ensemble import GradientBoostingClassifier\n",
        "gbc=GradientBoostingClassifier()\n",
        "gbc.fit(x_train,y_train)"
      ],
      "execution_count": null,
      "outputs": [
        {
          "output_type": "execute_result",
          "data": {
            "text/plain": [
              "GradientBoostingClassifier(ccp_alpha=0.0, criterion='friedman_mse', init=None,\n",
              "                           learning_rate=0.1, loss='deviance', max_depth=3,\n",
              "                           max_features=None, max_leaf_nodes=None,\n",
              "                           min_impurity_decrease=0.0, min_impurity_split=None,\n",
              "                           min_samples_leaf=1, min_samples_split=2,\n",
              "                           min_weight_fraction_leaf=0.0, n_estimators=100,\n",
              "                           n_iter_no_change=None, presort='deprecated',\n",
              "                           random_state=None, subsample=1.0, tol=0.0001,\n",
              "                           validation_fraction=0.1, verbose=0,\n",
              "                           warm_start=False)"
            ]
          },
          "metadata": {},
          "execution_count": 45
        }
      ]
    },
    {
      "cell_type": "code",
      "metadata": {
        "colab": {
          "base_uri": "https://localhost:8080/"
        },
        "id": "B6yuZV1b1J4i",
        "outputId": "226d633f-12be-4d38-fdaf-9bf3642f150d"
      },
      "source": [
        "y_pred=gbc.predict(x_test)\n",
        "print(\"Classification report:\",classification_report(y_test,y_pred))\n",
        "print(\"Confusion Matrix:\",confusion_matrix(y_test,y_pred))\n",
        "print(\"Training Score: \",gbc.score(x_train,y_train)*100)\n",
        "print(\"testing score:\",gbc.score(x_test,y_test))"
      ],
      "execution_count": null,
      "outputs": [
        {
          "output_type": "stream",
          "name": "stdout",
          "text": [
            "Classification report:               precision    recall  f1-score   support\n",
            "\n",
            "           0       0.97      0.96      0.96        67\n",
            "           1       0.94      0.96      0.95        47\n",
            "\n",
            "    accuracy                           0.96       114\n",
            "   macro avg       0.95      0.96      0.95       114\n",
            "weighted avg       0.96      0.96      0.96       114\n",
            "\n",
            "Confusion Matrix: [[64  3]\n",
            " [ 2 45]]\n",
            "Training Score:  100.0\n",
            "testing score: 0.956140350877193\n"
          ]
        }
      ]
    },
    {
      "cell_type": "code",
      "metadata": {
        "colab": {
          "base_uri": "https://localhost:8080/"
        },
        "id": "xU0gRoKV1J4i",
        "outputId": "5300b019-4aeb-4da9-c9d2-2f80d1fb52f1"
      },
      "source": [
        "from sklearn.naive_bayes import GaussianNB\n",
        "gnb = GaussianNB()\n",
        "gnb.fit(x_train,y_train)"
      ],
      "execution_count": null,
      "outputs": [
        {
          "output_type": "execute_result",
          "data": {
            "text/plain": [
              "GaussianNB(priors=None, var_smoothing=1e-09)"
            ]
          },
          "metadata": {},
          "execution_count": 47
        }
      ]
    },
    {
      "cell_type": "code",
      "metadata": {
        "colab": {
          "base_uri": "https://localhost:8080/"
        },
        "id": "oqLTKKdP1J4j",
        "outputId": "4da35751-7e1a-4306-b441-a960fabbd187"
      },
      "source": [
        "y_pred=gnb.predict(x_test)\n",
        "print(\"Classification report:\",classification_report(y_test,y_pred))\n",
        "print(\"Confusion Matrix:\",confusion_matrix(y_test,y_pred))\n",
        "print(\"Training Score: \",gnb.score(x_train,y_train)*100)\n",
        "print(\"Testing score\",gnb.score(x_test,y_test))"
      ],
      "execution_count": null,
      "outputs": [
        {
          "output_type": "stream",
          "name": "stdout",
          "text": [
            "Classification report:               precision    recall  f1-score   support\n",
            "\n",
            "           0       0.90      0.91      0.90        67\n",
            "           1       0.87      0.85      0.86        47\n",
            "\n",
            "    accuracy                           0.89       114\n",
            "   macro avg       0.88      0.88      0.88       114\n",
            "weighted avg       0.89      0.89      0.89       114\n",
            "\n",
            "Confusion Matrix: [[61  6]\n",
            " [ 7 40]]\n",
            "Training Score:  92.08791208791209\n",
            "Testing score 0.8859649122807017\n"
          ]
        }
      ]
    },
    {
      "cell_type": "markdown",
      "metadata": {
        "id": "JL92kDjbl-hG"
      },
      "source": [
        "References:\n",
        "\n",
        "*   https://www.ncbi.nlm.nih.gov/pmc/articles/PMC7331753/\n",
        "*   https://github.com/sunancui/breast-cancer-diagnosis\n",
        "\n"
      ]
    }
  ]
}